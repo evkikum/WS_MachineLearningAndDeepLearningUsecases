{
 "cells": [
  {
   "cell_type": "code",
   "execution_count": null,
   "metadata": {
    "slideshow": {
     "slide_type": "slide"
    }
   },
   "outputs": [],
   "source": [
    "# Import required packages"
   ]
  },
  {
   "cell_type": "code",
   "execution_count": null,
   "metadata": {},
   "outputs": [],
   "source": [
    "%matplotlib inline\n",
    "import matplotlib.pylab as plt\n",
    "\n",
    "import pandas as pd\n",
    "import numpy as np\n",
    "import statsmodels as sm"
   ]
  },
  {
   "cell_type": "code",
   "execution_count": null,
   "metadata": {
    "slideshow": {
     "slide_type": "slide"
    }
   },
   "outputs": [],
   "source": [
    "# Import the dataset as DataFrame\n",
    "singapore_df = pd.read_csv(\"singapore_lfpr.csv\", header = 0,\n",
    "                     names = ['index', 'LabourForcePR'],\n",
    "                     index_col = 0)"
   ]
  },
  {
   "cell_type": "code",
   "execution_count": null,
   "metadata": {},
   "outputs": [],
   "source": [
    "singapore_df.head()"
   ]
  },
  {
   "cell_type": "code",
   "execution_count": null,
   "metadata": {
    "slideshow": {
     "slide_type": "slide"
    }
   },
   "outputs": [],
   "source": [
    "# Converting to a Series object\n",
    "# Generating a proper date for the index\n",
    "singapore_lfpr = pd.Series(singapore_df['LabourForcePR'].values,\n",
    "                 index = pd.DatetimeIndex(data = \n",
    "                                          (tuple(pd.date_range('31/12/1980',\n",
    "                                                                periods = 28,\n",
    "                                                                freq = 'A-DEC'))),\n",
    "                                          freq = 'A-DEC'))"
   ]
  },
  {
   "cell_type": "code",
   "execution_count": null,
   "metadata": {},
   "outputs": [],
   "source": [
    "singapore_lfpr"
   ]
  },
  {
   "cell_type": "code",
   "execution_count": null,
   "metadata": {
    "slideshow": {
     "slide_type": "slide"
    }
   },
   "outputs": [],
   "source": [
    "plt.figure(figsize=(12,8))\n",
    "plt.plot(singapore_lfpr)"
   ]
  },
  {
   "cell_type": "code",
   "execution_count": null,
   "metadata": {
    "slideshow": {
     "slide_type": "slide"
    }
   },
   "outputs": [],
   "source": [
    "# Test for Stationarity\n",
    "def stationarity_test(timeseries):\n",
    "    \"\"\"\"Augmented Dickey-Fuller Test\n",
    "    Test for Stationarity\"\"\"\n",
    "    from statsmodels.tsa.stattools import adfuller\n",
    "    print(\"Results of Dickey-Fuller Test:\")\n",
    "    df_test = adfuller(timeseries, autolag = \"AIC\")\n",
    "    df_output = pd.Series(df_test[0:4],\n",
    "                          index = [\"Test Statistic\", \"p-value\", \"#Lags Used\",\n",
    "                                   \"Number of Observations Used\"])\n",
    "    print(df_output)"
   ]
  },
  {
   "cell_type": "code",
   "execution_count": null,
   "metadata": {
    "slideshow": {
     "slide_type": "slide"
    }
   },
   "outputs": [],
   "source": [
    "stationarity_test(singapore_lfpr)"
   ]
  },
  {
   "cell_type": "code",
   "execution_count": null,
   "metadata": {
    "slideshow": {
     "slide_type": "-"
    }
   },
   "outputs": [],
   "source": [
    "# Differencing\n",
    "singapore_1diff = singapore_lfpr - singapore_lfpr.shift(1)"
   ]
  },
  {
   "cell_type": "code",
   "execution_count": null,
   "metadata": {},
   "outputs": [],
   "source": [
    "singapore_1diff = singapore_1diff.dropna(inplace = False)"
   ]
  },
  {
   "cell_type": "code",
   "execution_count": null,
   "metadata": {},
   "outputs": [],
   "source": [
    "plt.figure(figsize=(12,8))\n",
    "plt.plot(singapore_1diff)"
   ]
  },
  {
   "cell_type": "code",
   "execution_count": null,
   "metadata": {
    "slideshow": {
     "slide_type": "slide"
    }
   },
   "outputs": [],
   "source": [
    "stationarity_test(singapore_1diff)"
   ]
  },
  {
   "cell_type": "code",
   "execution_count": null,
   "metadata": {
    "slideshow": {
     "slide_type": "slide"
    }
   },
   "outputs": [],
   "source": [
    "# ACF and PACF plots\n",
    "from statsmodels.graphics.tsaplots import plot_acf, plot_pacf"
   ]
  },
  {
   "cell_type": "code",
   "execution_count": null,
   "metadata": {},
   "outputs": [],
   "source": [
    "# Visual Test for Autocorrelation and Partial-Autocorrelation\n",
    "%matplotlib inline\n",
    "fig = plt.figure(figsize=(12,8))\n",
    "ax1 = fig.add_subplot(211)\n",
    "fig = plot_acf(singapore_1diff, lags=20, ax=ax1)\n",
    "ax2 = fig.add_subplot(212)\n",
    "fig = plot_pacf(singapore_1diff, lags=20, ax=ax2)"
   ]
  },
  {
   "cell_type": "code",
   "execution_count": null,
   "metadata": {
    "slideshow": {
     "slide_type": "slide"
    }
   },
   "outputs": [],
   "source": [
    "# ARIMA Model Setup\n",
    "from statsmodels.tsa.arima_model import ARIMA"
   ]
  },
  {
   "cell_type": "code",
   "execution_count": null,
   "metadata": {},
   "outputs": [],
   "source": [
    "# The model order is 1,0,0, since we already differenced the dataset\n",
    "# ARIMA(1,1,0)\n",
    "model_singapore = ARIMA(singapore_1diff, order=(1, 0, 0))  \n",
    "result_AR = model_singapore.fit()\n",
    "plt.figure(figsize=(12,8))\n",
    "plt.plot(singapore_1diff)\n",
    "plt.plot(result_AR.fittedvalues, color='red')"
   ]
  },
  {
   "cell_type": "code",
   "execution_count": null,
   "metadata": {
    "slideshow": {
     "slide_type": "slide"
    }
   },
   "outputs": [],
   "source": [
    "result_AR.fittedvalues"
   ]
  },
  {
   "cell_type": "code",
   "execution_count": null,
   "metadata": {
    "slideshow": {
     "slide_type": "slide"
    }
   },
   "outputs": [],
   "source": [
    "# Model Diagnostics\n",
    "result_AR.summary()"
   ]
  },
  {
   "cell_type": "code",
   "execution_count": null,
   "metadata": {
    "slideshow": {
     "slide_type": "slide"
    }
   },
   "outputs": [],
   "source": [
    "# ACF on Residuals of Our Model\n",
    "%matplotlib inline\n",
    "fig = plt.figure(figsize=(12,8))\n",
    "ax1 = fig.add_subplot(211)\n",
    "fig = plot_acf(result_AR.resid, lags=20, ax=ax1)"
   ]
  },
  {
   "cell_type": "code",
   "execution_count": null,
   "metadata": {
    "slideshow": {
     "slide_type": "slide"
    }
   },
   "outputs": [],
   "source": [
    "# Histogram of the Residuals\n",
    "from scipy.stats import norm\n",
    "\n",
    "plt.figure(figsize = (12, 8))\n",
    "plt.hist(result_AR.resid, bins = 'auto', density = True, rwidth = 0.85,\n",
    "         label = 'Residuals') #density TRUE - norm.dist bell curve\n",
    "mu, std = norm.fit(result_AR.resid)\n",
    "xmin, xmax = plt.xlim()\n",
    "x = np.linspace(xmin, xmax, 100) #linspace returns evenly spaced numbers over a specified interval\n",
    "p = norm.pdf(x, mu, std) #pdf = probability density function\n",
    "plt.plot(x, p, 'm', linewidth = 2)\n",
    "plt.grid(axis='y', alpha = 0.2)\n",
    "plt.xlabel('Residuals')\n",
    "plt.ylabel('Density')\n",
    "plt.title('Residuals 1,1,0 vs Normal Distribution - Mean = '+str(round(mu,2))+', Std = '+str(round(std,2)))\n",
    "plt.show()"
   ]
  },
  {
   "cell_type": "code",
   "execution_count": null,
   "metadata": {},
   "outputs": [],
   "source": [
    "# Compare further models like ARIMA(0,1,1) or ARIMA (2,1,0)\n",
    "# Don't forget: The dataset is already differenced"
   ]
  }
 ],
 "metadata": {
  "celltoolbar": "Slideshow",
  "kernelspec": {
   "display_name": "Python 3",
   "language": "python",
   "name": "python3"
  },
  "language_info": {
   "codemirror_mode": {
    "name": "ipython",
    "version": 3
   },
   "file_extension": ".py",
   "mimetype": "text/x-python",
   "name": "python",
   "nbconvert_exporter": "python",
   "pygments_lexer": "ipython3",
   "version": "3.6.6"
  }
 },
 "nbformat": 4,
 "nbformat_minor": 2
}
